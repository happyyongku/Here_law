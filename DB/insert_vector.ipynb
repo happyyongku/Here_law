{
 "cells": [
  {
   "cell_type": "code",
   "execution_count": 1,
   "metadata": {},
   "outputs": [],
   "source": [
    "# 먼저 GPU 서버를 켜놓는다. GPU 서버의 Embedding 모델을 활용해야 하기 때문.\n",
    "GPU_URL = \"http://localhost:8109/v1\" #GPU 서버 URL 및 포트. 끝에 v1이 필요한 이유는 OpenAI랑 맞추기 위함. 형식: some_url:8109/v1\n",
    "DB_URL = \"postgres:j11b109_db_password@3.36.85.129:3346/here_law\" #DB URL. 형식: 계정이름:비밀번호@도메인:포트/사용할 DB 이름\n",
    "COLLECTION_NAME = \"case_vector\" #지금 넣을 데이터가 들어갈 vector collection"
   ]
  },
  {
   "cell_type": "code",
   "execution_count": 2,
   "metadata": {},
   "outputs": [],
   "source": [
    "CHUNK_SIZE = 128\n",
    "ID_PREFIX = \"case_\""
   ]
  },
  {
   "cell_type": "code",
   "execution_count": 3,
   "metadata": {},
   "outputs": [],
   "source": [
    "import os\n",
    "import sys\n",
    "os.getcwd()\n",
    "\n",
    "sys.path.append(os.path.dirname(os.getcwd()))"
   ]
  },
  {
   "cell_type": "code",
   "execution_count": 4,
   "metadata": {},
   "outputs": [],
   "source": [
    "from backend.fastapi_ec2.agents.tools.embedding_proxy import EmbeddingProxy\n",
    "from langchain_postgres import PGVector\n",
    "\n",
    "embedder = EmbeddingProxy(url=GPU_URL)\n",
    "\n",
    "connection = \"postgresql+psycopg://\" + DB_URL\n",
    "\n",
    "vector_store = PGVector(\n",
    "    embeddings=embedder,\n",
    "    collection_name=COLLECTION_NAME,\n",
    "    connection=connection,\n",
    "    use_jsonb=True,\n",
    ")"
   ]
  },
  {
   "cell_type": "code",
   "execution_count": 5,
   "metadata": {},
   "outputs": [],
   "source": [
    "path_list = [\n",
    "    \"/home/ldg/workspace/s2_2/S11P21B109/DB/temp/out1.jsonl\",\n",
    "    \"/home/ldg/workspace/s2_2/S11P21B109/DB/temp/out2.jsonl\"\n",
    "]"
   ]
  },
  {
   "cell_type": "code",
   "execution_count": 6,
   "metadata": {},
   "outputs": [],
   "source": [
    "import pandas as pd\n",
    "import json\n",
    "\n",
    "def parse_jsonl(pathlist):\n",
    "    data_list = []\n",
    "    for path in pathlist:\n",
    "        with open(path, \"r\") as f:\n",
    "            for line in f:\n",
    "                data_list.append( json.loads(line) )\n",
    "    return data_list"
   ]
  },
  {
   "cell_type": "code",
   "execution_count": 7,
   "metadata": {},
   "outputs": [],
   "source": [
    "alldata = parse_jsonl(path_list)"
   ]
  },
  {
   "cell_type": "code",
   "execution_count": 8,
   "metadata": {},
   "outputs": [],
   "source": [
    "from langchain_core.documents import Document\n",
    "docudata = [Document(\n",
    "    page_content=row[\"response\"][\"body\"][\"choices\"][0][\"message\"][\"content\"],\n",
    "    metadata={\n",
    "        \"id\" : row[\"custom_id\"]\n",
    "    }\n",
    ") for row in alldata] "
   ]
  },
  {
   "cell_type": "code",
   "execution_count": 10,
   "metadata": {},
   "outputs": [],
   "source": [
    "from itertools import islice\n",
    "\n",
    "# Function to split a list into chunks of arbitrary size\n",
    "def chunk_list(lst, chunk_size):\n",
    "    for i in range(0, len(lst), chunk_size):\n",
    "        yield lst[i:i + chunk_size]\n"
   ]
  },
  {
   "cell_type": "code",
   "execution_count": 16,
   "metadata": {},
   "outputs": [
    {
     "name": "stdout",
     "output_type": "stream",
     "text": [
      "['case_85832', 'case_85903', 'case_215265', 'case_188582', 'case_215365', 'case_215227', 'case_71778', 'case_86046', 'case_85830', 'case_85834', 'case_85835', 'case_85836', 'case_85831', 'case_85847', 'case_85833', 'case_232167', 'case_85867', 'case_85839', 'case_215267', 'case_85837', 'case_85838', 'case_223851', 'case_215209', 'case_85842', 'case_85840', 'case_215317', 'case_215293', 'case_85848', 'case_71773', 'case_85849', 'case_85850', 'case_133662', 'case_85904', 'case_85857', 'case_85866', 'case_85900', 'case_85898', 'case_85899', 'case_85901', 'case_85865', 'case_85905', 'case_85843', 'case_133663', 'case_85871', 'case_85844', 'case_215219', 'case_188581', 'case_215315', 'case_219997', 'case_85851', 'case_85852', 'case_215369', 'case_85854', 'case_85855', 'case_85853', 'case_232305', 'case_85856', 'case_86038', 'case_137763', 'case_85864', 'case_215281', 'case_85868', 'case_71774', 'case_85913', 'case_232309', 'case_86045', 'case_85872', 'case_133664', 'case_85883', 'case_85863', 'case_85914', 'case_85885', 'case_232165', 'case_85886', 'case_85888', 'case_133665', 'case_85889', 'case_215313', 'case_232307', 'case_86009', 'case_215233', 'case_133683', 'case_71777', 'case_215367', 'case_215291', 'case_86026', 'case_85933', 'case_163071', 'case_86048', 'case_71779', 'case_86018', 'case_86008', 'case_86050', 'case_215311', 'case_85882', 'case_86029', 'case_86049', 'case_86051', 'case_86028', 'case_86027', 'case_215203', 'case_86005', 'case_86006', 'case_86024', 'case_86025', 'case_86012', 'case_86040', 'case_147313', 'case_86031', 'case_86047', 'case_215363', 'case_86041', 'case_215309', 'case_86061', 'case_215361', 'case_86053', 'case_86032', 'case_215307', 'case_71780', 'case_85934', 'case_232303', 'case_86022', 'case_86060', 'case_86037', 'case_232301', 'case_163992', 'case_86052', 'case_232299']\n",
      "Valid IDs: []\n"
     ]
    }
   ],
   "source": [
    "results = []\n",
    "for chunk in chunk_list(docudata, CHUNK_SIZE):\n",
    "    ids = [ID_PREFIX + doc.metadata[\"id\"] for doc in chunk]  # Extract the list of IDs from the chunk\n",
    "\n",
    "    existing_ids =  [ID_PREFIX + doc.metadata[\"id\"] for doc in vector_store.get_by_ids(ids)]  # Fetch the existing IDs from the database\n",
    "    valid_ids = [id_ for id_ in ids if id_ not in existing_ids]\n",
    "    if len(valid_ids) == 0:\n",
    "        continue\n",
    "    to_add = [doc for doc in chunk if ID_PREFIX + doc.metadata[\"id\"] in valid_ids]\n",
    "\n",
    "    vector_store.add_documents(to_add, ids=[ID_PREFIX + doc.metadata[\"id\"] for doc in to_add])\n"
   ]
  }
 ],
 "metadata": {
  "kernelspec": {
   "display_name": "llm-llama",
   "language": "python",
   "name": "python3"
  },
  "language_info": {
   "codemirror_mode": {
    "name": "ipython",
    "version": 3
   },
   "file_extension": ".py",
   "mimetype": "text/x-python",
   "name": "python",
   "nbconvert_exporter": "python",
   "pygments_lexer": "ipython3",
   "version": "3.10.14"
  }
 },
 "nbformat": 4,
 "nbformat_minor": 2
}
